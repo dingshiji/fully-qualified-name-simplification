{
 "cells": [
  {
   "cell_type": "markdown",
   "metadata": {},
   "source": [
    "TODO: jaccard similarity, token set. 找到最相似的那个training的序号"
   ]
  },
  {
   "cell_type": "code",
   "execution_count": 3,
   "metadata": {},
   "outputs": [],
   "source": [
    "import json\n",
    "import re\n",
    "import javalang\n",
    "import os\n",
    "import pickle\n"
   ]
  },
  {
   "cell_type": "code",
   "execution_count": 69,
   "metadata": {},
   "outputs": [],
   "source": [
    "file_dir = '../output/simplified_test/'\n",
    "\n",
    "file_name = 'output.json'\n",
    "\n",
    "fp = os.path.join(file_dir,file_name)\n",
    "\n",
    "outfp = os.path.join(file_dir,'output_token.json')"
   ]
  },
  {
   "cell_type": "code",
   "execution_count": 70,
   "metadata": {},
   "outputs": [],
   "source": [
    "def code2tokenset(code):\n",
    "    tokens = javalang.tokenizer.tokenize(code)\n",
    "    token_set = set()\n",
    "    for token in tokens:\n",
    "        token_set.add(token.value)\n",
    "    return token_set\n",
    "\n",
    "def get_fm_name(fm):\n",
    "    token_list  = list(javalang.tokenizer.tokenize(fm))\n",
    "    for idx, token in enumerate(token_list):\n",
    "        if token_list[idx-1].value == 'void':\n",
    "            func_name = token.value\n",
    "            break\n",
    "    return func_name\n",
    "\n",
    "def process_fm(fm):\n",
    "    return get_fm_name(fm)+'(){}'\n",
    "\n",
    "def process_test(test):\n",
    "    test = test.replace('class Y {\\n\\n','')\n",
    "    test = test[:-2]\n",
    "    return test"
   ]
  },
  {
   "cell_type": "code",
   "execution_count": 71,
   "metadata": {},
   "outputs": [
    {
     "name": "stdout",
     "output_type": "stream",
     "text": [
      "class Y {\n",
      "\n",
      "    void testTweeVaderOverLedenInNLPeriodeGeboorte() {\n",
      "        List<BetrokkenheidModel> echtgenoten = util.Arrays.asList(maakBetrokkenheden(20110701, 20120101, ((short) (1))), maakBetrokkenheden(20120201, 20120504, ((short) (1))));\n",
      "        mockito.Mockito.when(relatieRepository.haalOpBetrokkenhedenVanPersoon(mockito.Matchers.any(PersoonModel.class), mockito.Matchers.any(RelatieSelectieFilter.class))).thenReturn(echtgenoten);\n",
      "        mockito.Mockito.when(persoonRepository.haalPersoonOpMetAdresViaBetrokkenheid(echtgenoten.get(0))).thenReturn(echtgenoten.get(0).getBetrokkene());\n",
      "        mockito.Mockito.when(persoonRepository.haalPersoonOpMetAdresViaBetrokkenheid(echtgenoten.get(1))).thenReturn(echtgenoten.get(1).getBetrokkene());\n",
      "        List<PersoonModel> kandidaten = kandidaatVader.bepaalKandidatenVader(new PersoonModel(new PersoonBericht()), new Datum(20120506));\n",
      "        mockito.Mockito.verify(persoonRepository, mockito.Mockito.times(2)).haalPersoonOpMetAdresViaBetrokkenheid(((BetrokkenheidModel) (mockito.Matchers.any())));\n",
      "        /* \"<AssertPlaceHolder>\" ; */\n",
      "    }\n",
      "}\n",
      "\n",
      "    void testTweeVaderOverLedenInNLPeriodeGeboorte() {\n",
      "        List<BetrokkenheidModel> echtgenoten = util.Arrays.asList(maakBetrokkenheden(20110701, 20120101, ((short) (1))), maakBetrokkenheden(20120201, 20120504, ((short) (1))));\n",
      "        mockito.Mockito.when(relatieRepository.haalOpBetrokkenhedenVanPersoon(mockito.Matchers.any(PersoonModel.class), mockito.Matchers.any(RelatieSelectieFilter.class))).thenReturn(echtgenoten);\n",
      "        mockito.Mockito.when(persoonRepository.haalPersoonOpMetAdresViaBetrokkenheid(echtgenoten.get(0))).thenReturn(echtgenoten.get(0).getBetrokkene());\n",
      "        mockito.Mockito.when(persoonRepository.haalPersoonOpMetAdresViaBetrokkenheid(echtgenoten.get(1))).thenReturn(echtgenoten.get(1).getBetrokkene());\n",
      "        List<PersoonModel> kandidaten = kandidaatVader.bepaalKandidatenVader(new PersoonModel(new PersoonBericht()), new Datum(20120506));\n",
      "        mockito.Mockito.verify(persoonRepository, mockito.Mockito.times(2)).haalPersoonOpMetAdresViaBetrokkenheid(((BetrokkenheidModel) (mockito.Matchers.any())));\n",
      "        /* \"<AssertPlaceHolder>\" ; */\n",
      "    }\n",
      "\n"
     ]
    }
   ],
   "source": [
    "print(data['0']['test'])\n",
    "\n",
    "print(process_test(data['0']['test']))"
   ]
  },
  {
   "cell_type": "code",
   "execution_count": null,
   "metadata": {},
   "outputs": [],
   "source": []
  },
  {
   "cell_type": "code",
   "execution_count": 72,
   "metadata": {},
   "outputs": [
    {
     "name": "stdout",
     "output_type": "stream",
     "text": [
      "contains\n"
     ]
    }
   ],
   "source": [
    "example = 'class Z {\\n\\n    void contains(String var24678) {\\n        return (getObject(path)) !\\u003d null;\\n    }\\n}\\n'\n",
    "print(get_fm_name(example))"
   ]
  },
  {
   "cell_type": "code",
   "execution_count": 73,
   "metadata": {},
   "outputs": [],
   "source": [
    "def get_jaccard_sim(set1, set2):\n",
    "    if type(set1) != set:\n",
    "        set1 = set(set1)\n",
    "    if type(set2) != set:\n",
    "        set2 = set(set2)\n",
    "    intersection = set1&set2\n",
    "    union = set1|set2\n",
    "    return len(intersection)/len(union)"
   ]
  },
  {
   "cell_type": "code",
   "execution_count": 74,
   "metadata": {},
   "outputs": [],
   "source": [
    "with open(fp,'r',encoding='utf-8') as f:\n",
    "    data = json.load(f)"
   ]
  },
  {
   "cell_type": "code",
   "execution_count": 75,
   "metadata": {},
   "outputs": [],
   "source": [
    "cnt = 0\n",
    "for k in data.keys():\n",
    "    v = data[k]\n",
    "    test = process_test(v['test'])\n",
    "    set1 = code2tokenset(test)\n",
    "    fm = process_fm(v['fm'])\n",
    "    set2 = code2tokenset(fm)\n",
    "    union = set1|set2\n",
    "    v['token_set'] = list(union)\n",
    "    # print(v)\n",
    "    # cnt+=1\n",
    "    # if cnt>1:\n",
    "    #     break"
   ]
  },
  {
   "cell_type": "code",
   "execution_count": 76,
   "metadata": {},
   "outputs": [],
   "source": [
    "new_json = json.dumps(data,indent=4)"
   ]
  },
  {
   "cell_type": "code",
   "execution_count": 77,
   "metadata": {},
   "outputs": [],
   "source": [
    "with open(outfp,'w',encoding='utf-8') as f:\n",
    "    f.write(new_json)"
   ]
  },
  {
   "cell_type": "code",
   "execution_count": 51,
   "metadata": {},
   "outputs": [
    {
     "name": "stdout",
     "output_type": "stream",
     "text": [
      "{'assertion': 'class X {\\n\\n    void var24678() {\\n        assertEquals(2, kandidaten.size());\\n    }\\n}\\n', 'test': 'class Y {\\n\\n    void testTweeVaderOverLedenInNLPeriodeGeboorte() {\\n        List<BetrokkenheidModel> echtgenoten = util.Arrays.asList(maakBetrokkenheden(20110701, 20120101, ((short) (1))), maakBetrokkenheden(20120201, 20120504, ((short) (1))));\\n        mockito.Mockito.when(relatieRepository.haalOpBetrokkenhedenVanPersoon(mockito.Matchers.any(PersoonModel.class), mockito.Matchers.any(RelatieSelectieFilter.class))).thenReturn(echtgenoten);\\n        mockito.Mockito.when(persoonRepository.haalPersoonOpMetAdresViaBetrokkenheid(echtgenoten.get(0))).thenReturn(echtgenoten.get(0).getBetrokkene());\\n        mockito.Mockito.when(persoonRepository.haalPersoonOpMetAdresViaBetrokkenheid(echtgenoten.get(1))).thenReturn(echtgenoten.get(1).getBetrokkene());\\n        List<PersoonModel> kandidaten = kandidaatVader.bepaalKandidatenVader(new PersoonModel(new PersoonBericht()), new Datum(20120506));\\n        mockito.Mockito.verify(persoonRepository, mockito.Mockito.times(2)).haalPersoonOpMetAdresViaBetrokkenheid(((BetrokkenheidModel) (mockito.Matchers.any())));\\n        /* \"<AssertPlaceHolder>\" ; */\\n    }\\n}\\n', 'fm': 'class Z {\\n\\n    void size() {\\n        return elementen.size();\\n    }\\n}\\n', 'token_set': ['20110701', 'get', ';', 'Arrays', 'maakBetrokkenheden', 'BetrokkenheidModel', '20120504', 'Mockito', 'PersoonModel', 'PersoonBericht', 'util', 'relatieRepository', '=', 'kandidaatVader', 'persoonRepository', 'testTweeVaderOverLedenInNLPeriodeGeboorte', '0', '(', 'verify', '}', 'size', 'any', 'mockito', '20120506', 'haalOpBetrokkenhedenVanPersoon', '20120201', 'new', '<', 'Datum', '>', 'List', '1', '20120101', '.', ')', ',', 'void', 'kandidaten', 'times', 'thenReturn', 'getBetrokkene', '{', 'haalPersoonOpMetAdresViaBetrokkenheid', 'RelatieSelectieFilter', 'short', '2', 'echtgenoten', 'Matchers', 'bepaalKandidatenVader', 'when', 'class', 'asList']}\n"
     ]
    }
   ],
   "source": [
    "cnt = 0\n",
    "for k in data.keys():\n",
    "    v = data[k]\n",
    "    print(v)\n",
    "    cnt+=1\n",
    "    if cnt>0:\n",
    "        break"
   ]
  },
  {
   "cell_type": "code",
   "execution_count": null,
   "metadata": {},
   "outputs": [
    {
     "name": "stdout",
     "output_type": "stream",
     "text": [
      "116184\n"
     ]
    }
   ],
   "source": [
    "print(len(data))"
   ]
  },
  {
   "cell_type": "code",
   "execution_count": 63,
   "metadata": {},
   "outputs": [
    {
     "name": "stdout",
     "output_type": "stream",
     "text": [
      "409\r"
     ]
    },
    {
     "ename": "KeyboardInterrupt",
     "evalue": "",
     "output_type": "error",
     "traceback": [
      "\u001b[1;31m---------------------------------------------------------------------------\u001b[0m",
      "\u001b[1;31mKeyboardInterrupt\u001b[0m                         Traceback (most recent call last)",
      "\u001b[1;32mf:\\ideaProjects\\fully-qualified-name-simplification\\pythonScripts\\add_token_set.ipynb Cell 14\u001b[0m in \u001b[0;36m<cell line: 2>\u001b[1;34m()\u001b[0m\n\u001b[0;32m      <a href='vscode-notebook-cell:/f%3A/ideaProjects/fully-qualified-name-simplification/pythonScripts/add_token_set.ipynb#X15sZmlsZQ%3D%3D?line=6'>7</a>\u001b[0m \u001b[39mif\u001b[39;00m k \u001b[39m==\u001b[39m k1:\n\u001b[0;32m      <a href='vscode-notebook-cell:/f%3A/ideaProjects/fully-qualified-name-simplification/pythonScripts/add_token_set.ipynb#X15sZmlsZQ%3D%3D?line=7'>8</a>\u001b[0m     \u001b[39mcontinue\u001b[39;00m\n\u001b[1;32m----> <a href='vscode-notebook-cell:/f%3A/ideaProjects/fully-qualified-name-simplification/pythonScripts/add_token_set.ipynb#X15sZmlsZQ%3D%3D?line=8'>9</a>\u001b[0m sim \u001b[39m=\u001b[39m get_jaccard_sim(v[\u001b[39m'\u001b[39;49m\u001b[39mtoken_set\u001b[39;49m\u001b[39m'\u001b[39;49m], v1[\u001b[39m'\u001b[39;49m\u001b[39mtoken_set\u001b[39;49m\u001b[39m'\u001b[39;49m])\n\u001b[0;32m     <a href='vscode-notebook-cell:/f%3A/ideaProjects/fully-qualified-name-simplification/pythonScripts/add_token_set.ipynb#X15sZmlsZQ%3D%3D?line=9'>10</a>\u001b[0m \u001b[39mif\u001b[39;00m sim \u001b[39m>\u001b[39m mx_sim:\n\u001b[0;32m     <a href='vscode-notebook-cell:/f%3A/ideaProjects/fully-qualified-name-simplification/pythonScripts/add_token_set.ipynb#X15sZmlsZQ%3D%3D?line=10'>11</a>\u001b[0m     mx_sim \u001b[39m=\u001b[39m sim\n",
      "\u001b[1;32mf:\\ideaProjects\\fully-qualified-name-simplification\\pythonScripts\\add_token_set.ipynb Cell 14\u001b[0m in \u001b[0;36mget_jaccard_sim\u001b[1;34m(set1, set2)\u001b[0m\n\u001b[0;32m      <a href='vscode-notebook-cell:/f%3A/ideaProjects/fully-qualified-name-simplification/pythonScripts/add_token_set.ipynb#X15sZmlsZQ%3D%3D?line=1'>2</a>\u001b[0m \u001b[39mif\u001b[39;00m \u001b[39mtype\u001b[39m(set1) \u001b[39m!=\u001b[39m \u001b[39mset\u001b[39m:\n\u001b[0;32m      <a href='vscode-notebook-cell:/f%3A/ideaProjects/fully-qualified-name-simplification/pythonScripts/add_token_set.ipynb#X15sZmlsZQ%3D%3D?line=2'>3</a>\u001b[0m     set1 \u001b[39m=\u001b[39m \u001b[39mset\u001b[39m(set1)\n\u001b[1;32m----> <a href='vscode-notebook-cell:/f%3A/ideaProjects/fully-qualified-name-simplification/pythonScripts/add_token_set.ipynb#X15sZmlsZQ%3D%3D?line=3'>4</a>\u001b[0m \u001b[39mif\u001b[39;00m \u001b[39mtype\u001b[39;49m(set2) \u001b[39m!=\u001b[39m \u001b[39mset\u001b[39m:\n\u001b[0;32m      <a href='vscode-notebook-cell:/f%3A/ideaProjects/fully-qualified-name-simplification/pythonScripts/add_token_set.ipynb#X15sZmlsZQ%3D%3D?line=4'>5</a>\u001b[0m     set2 \u001b[39m=\u001b[39m \u001b[39mset\u001b[39m(set2)\n\u001b[0;32m      <a href='vscode-notebook-cell:/f%3A/ideaProjects/fully-qualified-name-simplification/pythonScripts/add_token_set.ipynb#X15sZmlsZQ%3D%3D?line=5'>6</a>\u001b[0m intersection \u001b[39m=\u001b[39m set1\u001b[39m&\u001b[39mset2\n",
      "\u001b[1;31mKeyboardInterrupt\u001b[0m: "
     ]
    }
   ],
   "source": [
    "cnt = 0\n",
    "for k in data.keys():\n",
    "    v = data[k]\n",
    "    mx_sim = 0\n",
    "    mx_idx = ''\n",
    "    for k1, v1 in data.items():\n",
    "        if k == k1:\n",
    "            continue\n",
    "        sim = get_jaccard_sim(v['token_set'], v1['token_set'])\n",
    "        if sim > mx_sim:\n",
    "            mx_sim = sim\n",
    "            mx_idx = k1\n",
    "    v['similar case'] = mx_idx\n",
    "    cnt += 1\n",
    "    if cnt % 100 == 0:\n",
    "        print(k, end='\\r')\n"
   ]
  },
  {
   "cell_type": "code",
   "execution_count": null,
   "metadata": {},
   "outputs": [],
   "source": [
    "output_json = "
   ]
  },
  {
   "cell_type": "code",
   "execution_count": 67,
   "metadata": {},
   "outputs": [],
   "source": [
    "token_set1 =  [\n",
    "            \"20110701\",\n",
    "            \"get\",\n",
    "            \";\",\n",
    "            \"Arrays\",\n",
    "            \"maakBetrokkenheden\",\n",
    "            \"BetrokkenheidModel\",\n",
    "            \"20120504\",\n",
    "            \"Mockito\",\n",
    "            \"PersoonModel\",\n",
    "            \"PersoonBericht\",\n",
    "            \"util\",\n",
    "            \"relatieRepository\",\n",
    "            \"=\",\n",
    "            \"kandidaatVader\",\n",
    "            \"persoonRepository\",\n",
    "            \"testTweeVaderOverLedenInNLPeriodeGeboorte\",\n",
    "            \"0\"]\n",
    "token_set2 = [ \"Arrays\",\n",
    "            \"maakBetrokkenheden\",\n",
    "            \"BetrokkenheidModel\",\n",
    "            \"20120504\",\n",
    "            \"Mockito\",\n",
    "            \"PersoonModel\",\n",
    "            \"PersoonBericht\",\n",
    "            \"util\",\n",
    "            \"relatieRepository\",\n",
    "            \"=\",\n",
    "            \"kandidaatVader\",\n",
    "            \"persoonRepository\",\n",
    "            \"testTweeVaderOverLedenInNLPeriodeGeboorte\",\n",
    "            \"0\",\n",
    "            \"(\",\n",
    "            \"verify\",\n",
    "            \"}\",\n",
    "            \"size\"]\n",
    "\n",
    "token_set3 = [\"counter\",\n",
    "            \"String\",\n",
    "            \"onRemove\",\n",
    "            \"=\",\n",
    "            \"key\",\n",
    "            \"Override\",\n",
    "            \"(\",\n",
    "            \"}\",\n",
    "            \"incrementAndGet\",\n",
    "            \"java\",\n",
    "            \"value\",\n",
    "            \"put\",\n",
    "            \"new\",\n",
    "            \"<\",\n",
    "            \">\",\n",
    "            \"1\",\n",
    "            \"addListener\",\n",
    "            \".\",\n",
    "            \")\",\n",
    "            \",\",\n",
    "            \"void\"]"
   ]
  },
  {
   "cell_type": "code",
   "execution_count": 68,
   "metadata": {},
   "outputs": [
    {
     "name": "stdout",
     "output_type": "stream",
     "text": [
      "0.6666666666666666\n",
      "0.02702702702702703\n"
     ]
    }
   ],
   "source": [
    "print(get_jaccard_sim(token_set1,token_set2))\n",
    "print(get_jaccard_sim(token_set1,token_set3))\n"
   ]
  },
  {
   "cell_type": "code",
   "execution_count": null,
   "metadata": {},
   "outputs": [],
   "source": []
  }
 ],
 "metadata": {
  "kernelspec": {
   "display_name": "Python 3.10.4 ('toga')",
   "language": "python",
   "name": "python3"
  },
  "language_info": {
   "codemirror_mode": {
    "name": "ipython",
    "version": 3
   },
   "file_extension": ".py",
   "mimetype": "text/x-python",
   "name": "python",
   "nbconvert_exporter": "python",
   "pygments_lexer": "ipython3",
   "version": "3.10.4"
  },
  "orig_nbformat": 4,
  "vscode": {
   "interpreter": {
    "hash": "0e9247189545a26babffec55f6939910379c9b178ab70f9b4c115c3c19c23866"
   }
  }
 },
 "nbformat": 4,
 "nbformat_minor": 2
}
